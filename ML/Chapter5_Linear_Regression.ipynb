import numpy as np
import matplotlib.pyplot as plt
%matplotlib inline

np.random.seed(0)

# y = 4X + 6 ( w1 = 4, w0 = 6) 노이즈를 만듬
X = 2 * np.random.rand(100,1)
print(X)
y = 6 + 4*X + np.random.randn(100,1)

# X, y Visualize Scatter plots 

plt.scatter(X,y)
